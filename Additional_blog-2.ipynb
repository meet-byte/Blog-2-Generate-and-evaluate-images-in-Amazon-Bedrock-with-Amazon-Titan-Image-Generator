{
 "cells": [
  {
   "cell_type": "markdown",
   "metadata": {},
   "source": [
    "### Create a Application where generated image by the foundation model on the Amazon S3 and the program return the link of the stored image on the S3"
   ]
  },
  {
   "cell_type": "code",
   "execution_count": null,
   "metadata": {},
   "outputs": [
    {
     "name": "stdout",
     "output_type": "stream",
     "text": [
      "Image successfully saved at: C:/Users/MeetMavani/Desktop/Meet_Mavani_Internship/GenAI Blogs/Blog-2-Generate and evaluate images in Amazon Bedrock with Amazon Titan Image Generator/Generated_images/613f6476-0d11-4ddc-bc34-5040677fd5b8.png\n",
      "https://myawsimgbucket-meet.s3.us-east-1.amazonaws.com/Generated_images/613f6476-0d11-4ddc-bc34-5040677fd5b8.png\n",
      "Link has been Generated\n"
     ]
    }
   ],
   "source": [
    "import boto3\n",
    "import json\n",
    "import base64\n",
    "import io\n",
    "from PIL import Image\n",
    "import uuid\n",
    "\n",
    "\n",
    "bedrock_client = boto3.client(\n",
    "    service_name=\"bedrock-runtime\",\n",
    "    region_name=\"us-east-1\"\n",
    ")\n",
    "\n",
    "model_id = \"amazon.nova-canvas-v1:0\"\n",
    "\n",
    "prompt = \"Create a image of india lifting the champions trophy\"\n",
    "\n",
    "body = json.dumps({\n",
    "    \"taskType\": \"TEXT_IMAGE\",\n",
    "    \"textToImageParams\": {\n",
    "        \"text\": prompt\n",
    "    },\n",
    "    \"imageGenerationConfig\": {\n",
    "        \"numberOfImages\": 1,\n",
    "        \"height\": 1024,\n",
    "        \"width\": 1024,\n",
    "        \"cfgScale\": 8.0,\n",
    "        \"seed\": 0\n",
    "    }\n",
    "})\n",
    "\n",
    "\n",
    "accept = \"application/json\"\n",
    "content_type = \"application/json\"\n",
    "\n",
    "response = bedrock_client.invoke_model(\n",
    "    modelId=model_id,\n",
    "    body=body,\n",
    "    accept=accept, \n",
    "    contentType=content_type\n",
    ")\n",
    "\n",
    "result = json.loads(response[\"body\"].read())\n",
    "base64_image = result.get(\"images\")[0]  \n",
    "image_bytes = base64.b64decode(base64_image)  \n",
    "\n",
    "image = Image.open(io.BytesIO(image_bytes))\n",
    "image.show()\n",
    "id=uuid.uuid4()\n",
    "object_path=f\"Generated_images/{id}.png\"\n",
    "save_path = f\"C:/Users/MeetMavani/Desktop/Meet_Mavani_Internship/GenAI Blogs/Blog-2-Generate and evaluate images in Amazon Bedrock with Amazon Titan Image Generator/{object_path}\"  # Change this path as needed\n",
    "image.save(save_path)\n",
    "\n",
    "print(f\"Image successfully saved at: {save_path}\")\n",
    "\n",
    "\n",
    "## Save the image to the S3\n",
    "\n",
    "\n",
    "s3 = boto3.client(\"s3\")\n",
    "id = uuid.uuid4()\n",
    "\n",
    "bucket_name=\"myawsimgbucket-meet\"\n",
    "\n",
    "\n",
    "response=s3.upload_file(f\"C:/Users/MeetMavani/Desktop/Meet_Mavani_Internship/GenAI Blogs/Blog-2-Generate and evaluate images in Amazon Bedrock with Amazon Titan Image Generator/{object_path}\",\n",
    "                        bucket_name,\n",
    "                        object_path,\n",
    "                        ExtraArgs={'ContentType': 'image/jpeg'}\n",
    "                        )\n",
    "\n",
    "response = s3.put_object(\n",
    "            Bucket=bucket_name,\n",
    "            Key=object_path,\n",
    "            Body=image_bytes,\n",
    "            ContentType='image/jpeg'\n",
    "        )\n",
    "\n",
    "object_url = f\"https://{bucket_name}.s3.us-east-1.amazonaws.com/{object_path}\"\n",
    "print(object_url)\n",
    "print(\"Link has been Generated\")\n"
   ]
  },
  {
   "cell_type": "code",
   "execution_count": null,
   "metadata": {},
   "outputs": [],
   "source": []
  }
 ],
 "metadata": {
  "kernelspec": {
   "display_name": "Python 3",
   "language": "python",
   "name": "python3"
  },
  "language_info": {
   "codemirror_mode": {
    "name": "ipython",
    "version": 3
   },
   "file_extension": ".py",
   "mimetype": "text/x-python",
   "name": "python",
   "nbconvert_exporter": "python",
   "pygments_lexer": "ipython3",
   "version": "3.12.0"
  }
 },
 "nbformat": 4,
 "nbformat_minor": 2
}
