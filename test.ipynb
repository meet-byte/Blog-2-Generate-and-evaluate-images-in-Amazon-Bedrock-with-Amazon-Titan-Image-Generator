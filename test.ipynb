{
 "cells": [
  {
   "cell_type": "markdown",
   "metadata": {},
   "source": [
    "# Generate and evaluate images in Amazon Bedrock with Amazon Titan Image Generator"
   ]
  },
  {
   "cell_type": "markdown",
   "metadata": {},
   "source": [
    "Requirements for the Implementations:\n",
    "1. Amazon Bedrock Model\n",
    "2. Amazon Nova Canvas\n",
    "3. Anthropic Claude 3.5 Sonnet\n",
    "4. Amazon S3\n",
    "5. Amazon IAM User Secret key and Access key\n",
    "6. Amazon Cloudwatch\n",
    "\n"
   ]
  },
  {
   "cell_type": "markdown",
   "metadata": {},
   "source": [
    "![alt text](image.png)"
   ]
  },
  {
   "cell_type": "markdown",
   "metadata": {},
   "source": [
    "## WorkFlow or the execution flow:"
   ]
  },
  {
   "cell_type": "markdown",
   "metadata": {},
   "source": [
    "Users or applications submit a prompt as an API request.\n",
    "\n",
    "The prompt and parameters are passed to Amazon Bedrock using an inference API called by the Lambda function.\n",
    "\n",
    "Amazon Bedrock generates a high-quality image based on the prompt with Amazon Nova Canvas.\n",
    "The Lambda function sends the image bytes and the original prompt to Anthropic’s Claude 3.5 Sonnet on \n",
    "\n",
    "Amazon Bedrock.\n",
    "Anthropic’s Claude 3.5 Sonnet evaluates the generated image against the original prompt.\n",
    "The Lambda function saves the image to an Amazon Simple Storage Service (Amazon S3) bucket and generates a \n",
    "\n",
    "pre-signed URL.\n",
    "The pre-signed URL and the evaluation are returned as an API response in JSON format."
   ]
  },
  {
   "cell_type": "markdown",
   "metadata": {},
   "source": []
  },
  {
   "cell_type": "markdown",
   "metadata": {},
   "source": [
    "### Changes need to done in the CloudFormation stack creation:\n",
    "A name for the new S3 bucket that will receive the images (for example, image-gen-your-initials)\n",
    "\n",
    "The name of an existing S3 bucket where access logs will be stored.\n",
    "\n",
    "A token that you will use to authenticate your API (a string of your choice)"
   ]
  },
  {
   "cell_type": "markdown",
   "metadata": {},
   "source": [
    "![alt text](image-1.png)"
   ]
  },
  {
   "cell_type": "markdown",
   "metadata": {},
   "source": [
    "## Test the Model in the AWS"
   ]
  },
  {
   "cell_type": "markdown",
   "metadata": {},
   "source": [
    "![alt text](image-2.png)"
   ]
  },
  {
   "cell_type": "markdown",
   "metadata": {},
   "source": [
    "## Result"
   ]
  },
  {
   "cell_type": "markdown",
   "metadata": {},
   "source": [
    "![alt text](image-3.png)"
   ]
  },
  {
   "cell_type": "markdown",
   "metadata": {},
   "source": [
    "# Test the model in the Visual Studio code using the Code"
   ]
  },
  {
   "cell_type": "code",
   "execution_count": 2,
   "metadata": {},
   "outputs": [],
   "source": [
    "import boto3\n",
    "import json\n",
    "import base64\n",
    "import io\n",
    "from PIL import Image\n",
    "\n",
    "# Set up the Amazon Bedrock client\n",
    "bedrock_client = boto3.client(\n",
    "    service_name=\"bedrock-runtime\",\n",
    "    region_name=\"us-east-1\"\n",
    ")\n",
    "\n",
    "# Define the model ID\n",
    "model_id = \"amazon.nova-canvas-v1:0\"\n",
    "\n",
    "# Prepare the input prompt\n",
    "prompt = \"Generate the image on indian flag on the moon\"\n",
    "\n",
    "# Create the request payload\n",
    "body = json.dumps({\n",
    "        \"taskType\": \"TEXT_IMAGE\",\n",
    "        \"textToImageParams\": {\n",
    "            \"text\": prompt\n",
    "        },\n",
    "        \"imageGenerationConfig\": {\n",
    "            \"numberOfImages\": 1,\n",
    "            \"height\": 1024,\n",
    "            \"width\": 1024,\n",
    "            \"cfgScale\": 8.0,\n",
    "            \"seed\": 0\n",
    "        }\n",
    "    })\n",
    "\n",
    "accept = \"application/json\"\n",
    "content_type = \"application/json\"\n",
    "\n",
    "# Invoke the Amazon Bedrock model\n",
    "response = bedrock_client.invoke_model(\n",
    "    modelId=model_id,\n",
    "    body=body,\n",
    "    accept=accept, \n",
    "    contentType=content_type\n",
    ")\n",
    "\n",
    "# Process the response\n",
    "result = json.loads(response[\"body\"].read())\n",
    "\n",
    "base64_image = result.get(\"images\")[0]\n",
    "base64_bytes = base64_image.encode('ascii')\n",
    "image_bytes = base64.b64decode(base64_bytes)\n",
    "\n",
    "image = Image.open(io.BytesIO(image_bytes))\n",
    "image.show()"
   ]
  },
  {
   "cell_type": "markdown",
   "metadata": {},
   "source": [
    "# Generated Image:"
   ]
  },
  {
   "cell_type": "markdown",
   "metadata": {},
   "source": [
    "![/](image-5.png)"
   ]
  }
 ],
 "metadata": {
  "kernelspec": {
   "display_name": "Python 3",
   "language": "python",
   "name": "python3"
  },
  "language_info": {
   "codemirror_mode": {
    "name": "ipython",
    "version": 3
   },
   "file_extension": ".py",
   "mimetype": "text/x-python",
   "name": "python",
   "nbconvert_exporter": "python",
   "pygments_lexer": "ipython3",
   "version": "3.12.0"
  }
 },
 "nbformat": 4,
 "nbformat_minor": 2
}
