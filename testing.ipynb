{
 "cells": [
  {
   "cell_type": "code",
   "execution_count": 7,
   "metadata": {},
   "outputs": [
    {
     "name": "stdout",
     "output_type": "stream",
     "text": [
      "Initial image saved at: generated_image_ab3ea0e7-4d19-4156-a4bf-377400cea2ed.png\n",
      "Modified image saved at: modified_image_b0a2789f-7ea9-41f8-8bb8-53692819095b.png\n"
     ]
    }
   ],
   "source": [
    "import boto3\n",
    "import json\n",
    "import base64\n",
    "import io\n",
    "from PIL import Image\n",
    "import uuid\n",
    "\n",
    "# Initialize Amazon Bedrock client\n",
    "bedrock_client = boto3.client(\"bedrock-runtime\", region_name=\"us-east-1\")\n",
    "\n",
    "# Amazon Titan Image Generator v2 model\n",
    "model_id = \"amazon.titan-image-generator-v2:0\"\n",
    "\n",
    "# Step 1: Generate Initial Image\n",
    "initial_prompt = \"team celebrating the vistory of the world cup\"\n",
    "payload = {\n",
    "    \"taskType\": \"TEXT_IMAGE\",\n",
    "    \"textToImageParams\": {\"text\": initial_prompt},\n",
    "    \"imageGenerationConfig\": {\n",
    "        \"numberOfImages\": 1,\n",
    "        \"height\": 1024,\n",
    "        \"width\": 1024,\n",
    "        \"cfgScale\": 8.0,\n",
    "        \"seed\": 0\n",
    "    }\n",
    "}\n",
    "\n",
    "response = bedrock_client.invoke_model(\n",
    "    modelId=model_id,\n",
    "    body=json.dumps(payload),\n",
    "    accept=\"application/json\",\n",
    "    contentType=\"application/json\"\n",
    ")\n",
    "\n",
    "result = json.loads(response[\"body\"].read())\n",
    "base64_image = result.get(\"images\")[0]\n",
    "image_bytes = base64.b64decode(base64_image)\n",
    "\n",
    "# Save and display the initial image\n",
    "initial_image = Image.open(io.BytesIO(image_bytes))\n",
    "initial_image.show()\n",
    "\n",
    "initial_image_path = f\"generated_image_{uuid.uuid4()}.png\"\n",
    "initial_image.save(initial_image_path)\n",
    "print(f\"Initial image saved at: {initial_image_path}\")\n",
    "\n",
    "# Step 2: Modify the Image (by regenerating with a better prompt)\n",
    "modified_prompt = \"Change all five players to male in the previously generated photo with a trophy winning celebration.\"\n",
    "payload[\"textToImageParams\"][\"text\"] = modified_prompt  # Update prompt\n",
    "\n",
    "response = bedrock_client.invoke_model(\n",
    "    modelId=model_id,\n",
    "    body=json.dumps(payload),\n",
    "    accept=\"application/json\",\n",
    "    contentType=\"application/json\"\n",
    ")\n",
    "\n",
    "result = json.loads(response[\"body\"].read())\n",
    "base64_modified_image = result.get(\"images\")[0]\n",
    "modified_image_bytes = base64.b64decode(base64_modified_image)\n",
    "\n",
    "# Save and display the modified image\n",
    "modified_image = Image.open(io.BytesIO(modified_image_bytes))\n",
    "modified_image.show()\n",
    "\n",
    "modified_image_path = f\"modified_image_{uuid.uuid4()}.png\"\n",
    "modified_image.save(modified_image_path)\n",
    "print(f\"Modified image saved at: {modified_image_path}\")\n"
   ]
  },
  {
   "cell_type": "code",
   "execution_count": null,
   "metadata": {},
   "outputs": [],
   "source": []
  }
 ],
 "metadata": {
  "kernelspec": {
   "display_name": "Python 3",
   "language": "python",
   "name": "python3"
  },
  "language_info": {
   "codemirror_mode": {
    "name": "ipython",
    "version": 3
   },
   "file_extension": ".py",
   "mimetype": "text/x-python",
   "name": "python",
   "nbconvert_exporter": "python",
   "pygments_lexer": "ipython3",
   "version": "3.12.0"
  }
 },
 "nbformat": 4,
 "nbformat_minor": 2
}
